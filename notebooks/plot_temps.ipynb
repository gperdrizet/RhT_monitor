{
 "cells": [
  {
   "cell_type": "code",
   "execution_count": 2,
   "id": "d5f439ec-56dc-4708-9206-0352f12274b4",
   "metadata": {},
   "outputs": [],
   "source": [
    "import sys\n",
    "import glob\n",
    "import pandas as pd\n",
    "import matplotlib.pyplot as plt\n",
    "import matplotlib.dates as dates\n",
    "\n",
    "from mpl_toolkits.axes_grid1 import make_axes_locatable\n",
    "from datetime import datetime, timedelta\n",
    "\n",
    "sys.path.append('..')\n",
    "import config"
   ]
  },
  {
   "cell_type": "code",
   "execution_count": 11,
   "id": "3825705d-7563-40ff-b4ea-64eb72f33bd7",
   "metadata": {},
   "outputs": [
    {
     "name": "stdout",
     "output_type": "stream",
     "text": [
      "\n",
      "Data dir: /home/siderealyear/arkk/RhT_monitor/data/raw_data\n",
      "\n",
      "/home/siderealyear/arkk/RhT_monitor/data/raw_data/2023-03-29.csv\n",
      "/home/siderealyear/arkk/RhT_monitor/data/raw_data/2023-03-30.csv\n",
      "\n"
     ]
    }
   ],
   "source": [
    "data_dir = config.RAW_DATA_PATH\n",
    "print()\n",
    "print(f'Data dir: {data_dir}')\n",
    "print()\n",
    "\n",
    "data_files = glob.glob(data_dir + '/2023-03*.csv')\n",
    "\n",
    "for data_file in data_files:\n",
    "    print(data_file)\n",
    "    \n",
    "print()"
   ]
  },
  {
   "cell_type": "code",
   "execution_count": 12,
   "id": "de27caf9-0594-42aa-bc1e-752f34cc4b12",
   "metadata": {},
   "outputs": [],
   "source": [
    "data_frames = []\n",
    "\n",
    "for data_file in data_files:\n",
    "    data = pd.read_csv(data_file)\n",
    "    data_frames.append(data)\n",
    "    \n",
    "data_df = pd.concat(data_frames)\n",
    "data_df.reset_index(inplace = True, drop = True)\n",
    "data_df['Datetime'] = pd.to_datetime(data_df['Datetime'])"
   ]
  },
  {
   "cell_type": "code",
   "execution_count": 13,
   "id": "b681fe0a-deb1-41e3-a732-5ddd2f13401f",
   "metadata": {},
   "outputs": [
    {
     "data": {
      "text/html": [
       "<div>\n",
       "<style scoped>\n",
       "    .dataframe tbody tr th:only-of-type {\n",
       "        vertical-align: middle;\n",
       "    }\n",
       "\n",
       "    .dataframe tbody tr th {\n",
       "        vertical-align: top;\n",
       "    }\n",
       "\n",
       "    .dataframe thead th {\n",
       "        text-align: right;\n",
       "    }\n",
       "</style>\n",
       "<table border=\"1\" class=\"dataframe\">\n",
       "  <thead>\n",
       "    <tr style=\"text-align: right;\">\n",
       "      <th></th>\n",
       "      <th>Datetime</th>\n",
       "      <th>MCP9808 temperature (°C)</th>\n",
       "      <th>MCP9808 temperature (°F)</th>\n",
       "      <th>MS8607 temperature (°C)</th>\n",
       "      <th>MS8607 temperature (°F)</th>\n",
       "      <th>MS8607 pressure (kPa)</th>\n",
       "      <th>MS8607 relative humidity (%)</th>\n",
       "    </tr>\n",
       "  </thead>\n",
       "  <tbody>\n",
       "    <tr>\n",
       "      <th>0</th>\n",
       "      <td>2023-03-29 22:42:12.418938</td>\n",
       "      <td>19.1</td>\n",
       "      <td>66.4</td>\n",
       "      <td>19.7</td>\n",
       "      <td>67.5</td>\n",
       "      <td>101.3</td>\n",
       "      <td>30.4</td>\n",
       "    </tr>\n",
       "    <tr>\n",
       "      <th>1</th>\n",
       "      <td>2023-03-29 22:43:23.613465</td>\n",
       "      <td>19.1</td>\n",
       "      <td>66.4</td>\n",
       "      <td>19.7</td>\n",
       "      <td>67.5</td>\n",
       "      <td>101.3</td>\n",
       "      <td>30.5</td>\n",
       "    </tr>\n",
       "    <tr>\n",
       "      <th>2</th>\n",
       "      <td>2023-03-29 22:44:08.979245</td>\n",
       "      <td>19.2</td>\n",
       "      <td>66.6</td>\n",
       "      <td>19.7</td>\n",
       "      <td>67.5</td>\n",
       "      <td>101.2</td>\n",
       "      <td>30.4</td>\n",
       "    </tr>\n",
       "    <tr>\n",
       "      <th>3</th>\n",
       "      <td>2023-03-29 22:45:08.317586</td>\n",
       "      <td>19.1</td>\n",
       "      <td>66.4</td>\n",
       "      <td>19.7</td>\n",
       "      <td>67.5</td>\n",
       "      <td>101.2</td>\n",
       "      <td>30.4</td>\n",
       "    </tr>\n",
       "    <tr>\n",
       "      <th>4</th>\n",
       "      <td>2023-03-29 22:46:08.801397</td>\n",
       "      <td>19.2</td>\n",
       "      <td>66.6</td>\n",
       "      <td>19.7</td>\n",
       "      <td>67.5</td>\n",
       "      <td>101.3</td>\n",
       "      <td>30.4</td>\n",
       "    </tr>\n",
       "  </tbody>\n",
       "</table>\n",
       "</div>"
      ],
      "text/plain": [
       "                    Datetime  MCP9808 temperature (°C)  \\\n",
       "0 2023-03-29 22:42:12.418938                      19.1   \n",
       "1 2023-03-29 22:43:23.613465                      19.1   \n",
       "2 2023-03-29 22:44:08.979245                      19.2   \n",
       "3 2023-03-29 22:45:08.317586                      19.1   \n",
       "4 2023-03-29 22:46:08.801397                      19.2   \n",
       "\n",
       "   MCP9808 temperature (°F)  MS8607 temperature (°C)  MS8607 temperature (°F)  \\\n",
       "0                      66.4                     19.7                     67.5   \n",
       "1                      66.4                     19.7                     67.5   \n",
       "2                      66.6                     19.7                     67.5   \n",
       "3                      66.4                     19.7                     67.5   \n",
       "4                      66.6                     19.7                     67.5   \n",
       "\n",
       "   MS8607 pressure (kPa)  MS8607 relative humidity (%)  \n",
       "0                  101.3                          30.4  \n",
       "1                  101.3                          30.5  \n",
       "2                  101.2                          30.4  \n",
       "3                  101.2                          30.4  \n",
       "4                  101.3                          30.4  "
      ]
     },
     "execution_count": 13,
     "metadata": {},
     "output_type": "execute_result"
    }
   ],
   "source": [
    "data_df.head(5)"
   ]
  },
  {
   "cell_type": "code",
   "execution_count": 14,
   "id": "9badd536",
   "metadata": {},
   "outputs": [
    {
     "data": {
      "text/html": [
       "<div>\n",
       "<style scoped>\n",
       "    .dataframe tbody tr th:only-of-type {\n",
       "        vertical-align: middle;\n",
       "    }\n",
       "\n",
       "    .dataframe tbody tr th {\n",
       "        vertical-align: top;\n",
       "    }\n",
       "\n",
       "    .dataframe thead th {\n",
       "        text-align: right;\n",
       "    }\n",
       "</style>\n",
       "<table border=\"1\" class=\"dataframe\">\n",
       "  <thead>\n",
       "    <tr style=\"text-align: right;\">\n",
       "      <th></th>\n",
       "      <th>Datetime</th>\n",
       "      <th>MCP9808 temperature (°C)</th>\n",
       "      <th>MCP9808 temperature (°F)</th>\n",
       "      <th>MS8607 temperature (°C)</th>\n",
       "      <th>MS8607 temperature (°F)</th>\n",
       "      <th>MS8607 pressure (kPa)</th>\n",
       "      <th>MS8607 relative humidity (%)</th>\n",
       "    </tr>\n",
       "  </thead>\n",
       "  <tbody>\n",
       "    <tr>\n",
       "      <th>576</th>\n",
       "      <td>2023-03-30 08:18:09.139205</td>\n",
       "      <td>20.0</td>\n",
       "      <td>68.0</td>\n",
       "      <td>20.5</td>\n",
       "      <td>68.9</td>\n",
       "      <td>102.2</td>\n",
       "      <td>23.7</td>\n",
       "    </tr>\n",
       "    <tr>\n",
       "      <th>577</th>\n",
       "      <td>2023-03-30 08:19:08.816674</td>\n",
       "      <td>20.1</td>\n",
       "      <td>68.2</td>\n",
       "      <td>20.7</td>\n",
       "      <td>69.3</td>\n",
       "      <td>102.2</td>\n",
       "      <td>23.5</td>\n",
       "    </tr>\n",
       "    <tr>\n",
       "      <th>578</th>\n",
       "      <td>2023-03-30 08:20:08.385925</td>\n",
       "      <td>20.2</td>\n",
       "      <td>68.4</td>\n",
       "      <td>20.8</td>\n",
       "      <td>69.4</td>\n",
       "      <td>102.2</td>\n",
       "      <td>23.3</td>\n",
       "    </tr>\n",
       "    <tr>\n",
       "      <th>579</th>\n",
       "      <td>2023-03-30 08:21:09.369517</td>\n",
       "      <td>20.2</td>\n",
       "      <td>68.4</td>\n",
       "      <td>21.1</td>\n",
       "      <td>70.0</td>\n",
       "      <td>102.2</td>\n",
       "      <td>22.9</td>\n",
       "    </tr>\n",
       "    <tr>\n",
       "      <th>580</th>\n",
       "      <td>2023-03-30 08:22:08.664737</td>\n",
       "      <td>20.2</td>\n",
       "      <td>68.4</td>\n",
       "      <td>21.6</td>\n",
       "      <td>70.9</td>\n",
       "      <td>102.2</td>\n",
       "      <td>22.3</td>\n",
       "    </tr>\n",
       "  </tbody>\n",
       "</table>\n",
       "</div>"
      ],
      "text/plain": [
       "                      Datetime  MCP9808 temperature (°C)  \\\n",
       "576 2023-03-30 08:18:09.139205                      20.0   \n",
       "577 2023-03-30 08:19:08.816674                      20.1   \n",
       "578 2023-03-30 08:20:08.385925                      20.2   \n",
       "579 2023-03-30 08:21:09.369517                      20.2   \n",
       "580 2023-03-30 08:22:08.664737                      20.2   \n",
       "\n",
       "     MCP9808 temperature (°F)  MS8607 temperature (°C)  \\\n",
       "576                      68.0                     20.5   \n",
       "577                      68.2                     20.7   \n",
       "578                      68.4                     20.8   \n",
       "579                      68.4                     21.1   \n",
       "580                      68.4                     21.6   \n",
       "\n",
       "     MS8607 temperature (°F)  MS8607 pressure (kPa)  \\\n",
       "576                     68.9                  102.2   \n",
       "577                     69.3                  102.2   \n",
       "578                     69.4                  102.2   \n",
       "579                     70.0                  102.2   \n",
       "580                     70.9                  102.2   \n",
       "\n",
       "     MS8607 relative humidity (%)  \n",
       "576                          23.7  \n",
       "577                          23.5  \n",
       "578                          23.3  \n",
       "579                          22.9  \n",
       "580                          22.3  "
      ]
     },
     "execution_count": 14,
     "metadata": {},
     "output_type": "execute_result"
    }
   ],
   "source": [
    "data_df.tail(5)"
   ]
  },
  {
   "cell_type": "code",
   "execution_count": 15,
   "id": "95cae3fa-c8e5-42b6-be3a-cc98b60ea0f8",
   "metadata": {},
   "outputs": [
    {
     "name": "stdout",
     "output_type": "stream",
     "text": [
      "<class 'pandas.core.frame.DataFrame'>\n",
      "RangeIndex: 581 entries, 0 to 580\n",
      "Data columns (total 7 columns):\n",
      " #   Column                        Non-Null Count  Dtype         \n",
      "---  ------                        --------------  -----         \n",
      " 0   Datetime                      581 non-null    datetime64[ns]\n",
      " 1   MCP9808 temperature (°C)      581 non-null    float64       \n",
      " 2   MCP9808 temperature (°F)      581 non-null    float64       \n",
      " 3   MS8607 temperature (°C)       581 non-null    float64       \n",
      " 4   MS8607 temperature (°F)       581 non-null    float64       \n",
      " 5   MS8607 pressure (kPa)         581 non-null    float64       \n",
      " 6   MS8607 relative humidity (%)  581 non-null    float64       \n",
      "dtypes: datetime64[ns](1), float64(6)\n",
      "memory usage: 31.9 KB\n"
     ]
    }
   ],
   "source": [
    "data_df.info()"
   ]
  },
  {
   "cell_type": "code",
   "execution_count": 16,
   "id": "5d359519-1842-445d-8b39-6dddf3439f60",
   "metadata": {},
   "outputs": [
    {
     "data": {
      "image/png": "[encoded data removed]",
      "text/plain": [
       "<Figure size 1600x400 with 1 Axes>"
      ]
     },
     "metadata": {},
     "output_type": "display_data"
    }
   ],
   "source": [
    "fig = plt.gcf()\n",
    "fig.set_size_inches(16, 4)\n",
    "\n",
    "plt.scatter(\n",
    "    data_df['Datetime'],\n",
    "    data_df['MCP9808 temperature (°F)'],\n",
    "    s = 1,\n",
    "    color = 'black'\n",
    ")\n",
    "\n",
    "plt.scatter(\n",
    "    data_df['Datetime'],\n",
    "    data_df['MS8607 temperature (°F)'],\n",
    "    s = 1,\n",
    "    color = 'red'\n",
    ")\n",
    "\n",
    "plt.gca().xaxis.set_major_locator(dates.HourLocator(interval = 24))\n",
    "plt.gca().xaxis.set_major_formatter(dates.DateFormatter('%m/%d'))\n",
    "plt.ticklabel_format(axis = 'y', useOffset = False, style = 'plain')\n",
    "plt.xlabel('Date')\n",
    "plt.ylabel('Temp. (°F)')\n",
    "#plt.xlim(start_date, end_date)\n",
    "#plt.ylim((min_price - (min_price * 0.01)), (max_price + (max_price * 0.01)))\n",
    "\n",
    "plt.xticks(rotation = 45)\n",
    "#plt.title(f'', fontsize = 14)\n",
    "\n",
    "plt.show()"
   ]
  },
  {
   "cell_type": "code",
   "execution_count": 18,
   "id": "d59b3475-0153-46f8-ac21-4e830bb990b7",
   "metadata": {},
   "outputs": [
    {
     "data": {
      "image/png": "[encoded data removed]",
      "text/plain": [
       "<Figure size 1600x400 with 1 Axes>"
      ]
     },
     "metadata": {},
     "output_type": "display_data"
    }
   ],
   "source": [
    "fig = plt.gcf()\n",
    "fig.set_size_inches(16, 4)\n",
    "\n",
    "plt.scatter(\n",
    "    data_df['Datetime'],\n",
    "    data_df['MS8607 relative humidity (%)'],\n",
    "    s = 1,\n",
    "    color = 'black'\n",
    ")\n",
    "\n",
    "plt.gca().xaxis.set_major_locator(dates.HourLocator(interval = 24))\n",
    "plt.gca().xaxis.set_major_formatter(dates.DateFormatter('%m/%d'))\n",
    "plt.ticklabel_format(axis = 'y', useOffset = False, style = 'plain')\n",
    "plt.title('Relative humidity')\n",
    "plt.xlabel('Date')\n",
    "plt.ylabel('Temp. (°F)')\n",
    "#plt.xlim(start_date, end_date)\n",
    "#plt.ylim((min_price - (min_price * 0.01)), (max_price + (max_price * 0.01)))\n",
    "\n",
    "plt.xticks(rotation = 45)\n",
    "#plt.title(f'', fontsize = 14)\n",
    "\n",
    "plt.show()"
   ]
  },
  {
   "cell_type": "code",
   "execution_count": null,
   "id": "58abc547",
   "metadata": {},
   "outputs": [],
   "source": []
  }
 ],
 "metadata": {
  "kernelspec": {
   "display_name": "microbusiness",
   "language": "python",
   "name": "python3"
  },
  "language_info": {
   "codemirror_mode": {
    "name": "ipython",
    "version": 3
   },
   "file_extension": ".py",
   "mimetype": "text/x-python",
   "name": "python",
   "nbconvert_exporter": "python",
   "pygments_lexer": "ipython3",
   "version": "3.10.0"
  },
  "vscode": {
   "interpreter": {
    "hash": "c89e0f329143aafc2740b6540b46c06e92791a1e818eb6a9ece1d952786ba476"
   }
  }
 },
 "nbformat": 4,
 "nbformat_minor": 5
}
